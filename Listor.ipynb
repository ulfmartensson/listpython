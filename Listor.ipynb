{
 "cells": [
  {
   "cell_type": "code",
   "execution_count": null,
   "id": "e1a17b04",
   "metadata": {},
   "outputs": [],
   "source": [
    "lista=[1,2,3,4,5]\n",
    "print(len(lista))"
   ]
  },
  {
   "cell_type": "code",
   "execution_count": null,
   "id": "51a03988",
   "metadata": {},
   "outputs": [],
   "source": [
    "i=0\n",
    "for i in lista:\n",
    "    print(i)"
   ]
  },
  {
   "cell_type": "code",
   "execution_count": null,
   "id": "963d5deb",
   "metadata": {},
   "outputs": [],
   "source": [
    "for x in range(1,6):\n",
    "    print(x)"
   ]
  },
  {
   "cell_type": "code",
   "execution_count": null,
   "id": "fea2dc67",
   "metadata": {},
   "outputs": [],
   "source": [
    "lista.pop(3)"
   ]
  },
  {
   "cell_type": "code",
   "execution_count": null,
   "id": "a39a6cdc",
   "metadata": {},
   "outputs": [],
   "source": [
    "lista.append(76)"
   ]
  },
  {
   "cell_type": "code",
   "execution_count": null,
   "id": "472f03ef",
   "metadata": {},
   "outputs": [],
   "source": [
    "lista.insert(1,411)"
   ]
  },
  {
   "cell_type": "code",
   "execution_count": null,
   "id": "a03e2abb",
   "metadata": {},
   "outputs": [],
   "source": [
    "lista.sort()"
   ]
  },
  {
   "cell_type": "code",
   "execution_count": null,
   "id": "a7d446ed",
   "metadata": {},
   "outputs": [],
   "source": [
    "x={\"a\":1,\n",
    "  \"b\":2,\n",
    "  \"b\":3}\n",
    "print(x[\"b\"])"
   ]
  },
  {
   "cell_type": "code",
   "execution_count": 17,
   "id": "69146785",
   "metadata": {},
   "outputs": [
    {
     "name": "stdout",
     "output_type": "stream",
     "text": [
      "Ditt namn är Ulf\n"
     ]
    }
   ],
   "source": [
    "namn =\"Ulf\"\n",
    "print(f\"Ditt namn är {namn}\")"
   ]
  },
  {
   "cell_type": "code",
   "execution_count": null,
   "id": "f6c8bbcf",
   "metadata": {},
   "outputs": [],
   "source": []
  },
  {
   "cell_type": "code",
   "execution_count": null,
   "id": "aec5d1b4",
   "metadata": {},
   "outputs": [],
   "source": []
  }
 ],
 "metadata": {
  "kernelspec": {
   "display_name": "Python 3 (ipykernel)",
   "language": "python",
   "name": "python3"
  },
  "language_info": {
   "codemirror_mode": {
    "name": "ipython",
    "version": 3
   },
   "file_extension": ".py",
   "mimetype": "text/x-python",
   "name": "python",
   "nbconvert_exporter": "python",
   "pygments_lexer": "ipython3",
   "version": "3.9.13"
  }
 },
 "nbformat": 4,
 "nbformat_minor": 5
}
